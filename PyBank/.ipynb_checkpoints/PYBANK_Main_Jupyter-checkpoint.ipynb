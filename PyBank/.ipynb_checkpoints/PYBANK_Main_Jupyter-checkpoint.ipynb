{
 "cells": [
  {
   "cell_type": "code",
   "execution_count": null,
   "id": "e5fe34e7-8529-4a90-8e2f-867177cbf582",
   "metadata": {},
   "outputs": [],
   "source": [
    "import csv"
   ]
  },
  {
   "cell_type": "code",
   "execution_count": null,
   "id": "d51f5ad3-18a0-4c63-8ea4-215e808fb444",
   "metadata": {},
   "outputs": [],
   "source": [
    "File_Path = \"./Resources/budget_data.csv\""
   ]
  },
  {
   "cell_type": "code",
   "execution_count": null,
   "id": "07cfe483-5a4e-42a3-931b-535f3c81872e",
   "metadata": {},
   "outputs": [],
   "source": [
    "# The total number of months included in the dataset\n",
    "\n",
    "# The net total amount of \"Profit/Losses\" over the entire period\n",
    "\n",
    "# The changes in \"Profit/Losses\" over the entire period, and then the average of those changes\n",
    "\n",
    "# The greatest increase in profits (date and amount) over the entire period\n",
    "\n",
    "# The greatest decrease in profits (date and amount) over the entire period\n",
    "\n",
    "Date_List = []\n",
    "Profit_Loss = []\n",
    "Changes = []\n",
    "Header = []"
   ]
  },
  {
   "cell_type": "code",
   "execution_count": null,
   "id": "aad499f1-4f18-4a9e-9695-359f8dd0dc06",
   "metadata": {},
   "outputs": [],
   "source": [
    "with open(File_Path, 'r') as csv_file:\n",
    "    csv_reader = csv.reader(csv_file)\n",
    "\n",
    "    # The first row contains headers- Skip in order to just get dates in Date_List.\n",
    "    \n",
    "    next(csv_reader)\n",
    "    # Create a loop that captures all the data in each row as an individual value,\n",
    "    # Date_List - A list of all the dates in row 'Dates'\n",
    "    # Profit_Loss - A List of all the profits and losses in the column 'Profit/losses'\n",
    "    for row in csv_reader:\n",
    "        Date_List.append(row[0])\n",
    "        Profit_Loss.append(float(row[1]))"
   ]
  },
  {
   "cell_type": "code",
   "execution_count": null,
   "id": "cbdfcce3-b1bc-4df0-ac78-9e83a391f860",
   "metadata": {},
   "outputs": [],
   "source": [
    "# Since we are asked to find We want to make sure that the list has no repeat values\n",
    "Date_List_Clean = list(set(Date_List))"
   ]
  },
  {
   "cell_type": "code",
   "execution_count": null,
   "id": "153e9408-b0a5-4a5e-8014-72ebe87f66ef",
   "metadata": {},
   "outputs": [],
   "source": [
    "#The total number of months included in the dataset.\n",
    "Total_Months = len(Date_List_Clean)\n",
    "\n",
    "#The net total amount of \"Profit/Losses\" over the entire period.\n",
    "Net_PL = sum(Profit_Loss)\n",
    "\n",
    "#The changes in \"Profit/Losses\" over the entire period, and then the average of those changes.\n",
    "# Create a Loop that iterates through the list of profits and losses and adds to a new list 'Changes', \n",
    "# we cannot calculate the change on the first month as there is no data prior to that month\n",
    "# The loop must start at the second value within the list.\n",
    "\n",
    "for i in range(1, len(Profit_Loss)):\n",
    "    change = Profit_Loss[int(i)] - Profit_Loss[int(i-1)]\n",
    "    Changes.append(change)\n",
    "    \n",
    "# Calculate the average of those changes.\n",
    "Changes_Total = sum(Changes)\n",
    "Average_PL = sum(Changes)/len(Changes)\n",
    "\n",
    "# Format to reflect required output.\n",
    "Average_PL = round(Average_PL,2)"
   ]
  },
  {
   "cell_type": "code",
   "execution_count": null,
   "id": "6e6f5fe9-afec-4ecd-8d72-675ab1aac58f",
   "metadata": {},
   "outputs": [],
   "source": [
    "# Find the greatest increase in profits (date and amount) over the entire period\n",
    "Greatest_Increase_Profits = max(Changes)\n",
    "\n",
    "# Find The greatest decrease in profits (date and amount) over the entire period\n",
    "Greatest_Decrease_Profits = min(Changes)"
   ]
  },
  {
   "cell_type": "code",
   "execution_count": null,
   "id": "094b2f1a-6502-4406-8d01-aefb027af5e8",
   "metadata": {},
   "outputs": [],
   "source": [
    "# We need to be able to get the corresponding dates to the greatest decrease/increase in profits.\n",
    "\n",
    "# The changes list is missing the first date as we cannot calculate a change for that due to no prior data. Remove first value from dates.\n",
    "Date_List = Date_List[1:]\n",
    "\n",
    "# Create a dictionary with the Key values set as the changes in profit/loss and their corresponding dates as the value.\n",
    "result_dict = dict(zip(Changes, Date_List))"
   ]
  },
  {
   "cell_type": "code",
   "execution_count": 112,
   "id": "8a455cb6-f4bd-411d-9336-444dd349afbd",
   "metadata": {},
   "outputs": [
    {
     "name": "stdout",
     "output_type": "stream",
     "text": [
      "Financial Analysis\n",
      " \n",
      "----------------------------------\n",
      " \n",
      "Total Months:  86\n",
      "Total: $22564198\n",
      "Average Change: $-8311.11\n",
      "Greatest Increase in Profits: Aug-16 ($1862002)\n",
      "Greatest Decrease in Profits: Feb-14 ($-1825558)\n"
     ]
    }
   ],
   "source": [
    "# Print results in required format.\n",
    "print(\"Financial Analysis\")\n",
    "print(\" \")\n",
    "print(\"----------------------------------\")\n",
    "print(\" \")\n",
    "print(f'Total Months:  {Total_Months}')\n",
    "print(f'Total: ${int(Net_PL)}')\n",
    "print(f'Average Change: ${Average_PL}')\n",
    "print(f'Greatest Increase in Profits: {result_dict[Greatest_Increase_Profits]} (${int(Greatest_Increase_Profits)})')\n",
    "print(f'Greatest Decrease in Profits: {result_dict[Greatest_Decrease_Profits]} (${int(Greatest_Decrease_Profits)})')"
   ]
  },
  {
   "cell_type": "code",
   "execution_count": 118,
   "id": "66472764-823f-4d7a-b76a-c70befab7421",
   "metadata": {},
   "outputs": [],
   "source": [
    "# Output results in required format to a .txt file.\n",
    "with open('Financial Analysis.txt', 'w') as file:\n",
    "    # Redirect print statements to the file\n",
    "    file.write(f'Financial Analysis\\n')\n",
    "    file.write(\" \\n\")\n",
    "    file.write(\"----------------------------------\\n\")\n",
    "    file.write(\" \\n\")\n",
    "    file.write(f'Total Months:  {Total_Months}\\n')\n",
    "    file.write(f'Total: ${int(Net_PL)}\\n')\n",
    "    file.write(f'Average Change: ${Average_PL}\\n')\n",
    "    file.write(f'Greatest Increase in Profits: {result_dict[Greatest_Increase_Profits]} (${int(Greatest_Increase_Profits)})\\n')\n",
    "    file.write(f'Greatest Decrease in Profits: {result_dict[Greatest_Decrease_Profits]} (${int(Greatest_Decrease_Profits)})\\n')"
   ]
  },
  {
   "cell_type": "code",
   "execution_count": null,
   "id": "7ab4a6af-9f90-480c-b8b9-bc76fed69479",
   "metadata": {},
   "outputs": [],
   "source": []
  }
 ],
 "metadata": {
  "kernelspec": {
   "display_name": "Python 3 (ipykernel)",
   "language": "python",
   "name": "python3"
  },
  "language_info": {
   "codemirror_mode": {
    "name": "ipython",
    "version": 3
   },
   "file_extension": ".py",
   "mimetype": "text/x-python",
   "name": "python",
   "nbconvert_exporter": "python",
   "pygments_lexer": "ipython3",
   "version": "3.11.7"
  }
 },
 "nbformat": 4,
 "nbformat_minor": 5
}

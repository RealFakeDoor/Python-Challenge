{
 "cells": [
  {
   "cell_type": "code",
   "execution_count": null,
   "id": "e5fe34e7-8529-4a90-8e2f-867177cbf582",
   "metadata": {},
   "outputs": [],
   "source": [
    "import csv"
   ]
  },
  {
   "cell_type": "code",
   "execution_count": null,
   "id": "d51f5ad3-18a0-4c63-8ea4-215e808fb444",
   "metadata": {},
   "outputs": [],
   "source": [
    "File_Path = \"./Resources/budget_data.csv\""
   ]
  },
  {
   "cell_type": "code",
   "execution_count": 63,
   "id": "07cfe483-5a4e-42a3-931b-535f3c81872e",
   "metadata": {},
   "outputs": [],
   "source": [
    "Date_List = []\n",
    "Profit_Loss = []\n",
    "Changes = []\n",
    "Header = []"
   ]
  },
  {
   "cell_type": "code",
   "execution_count": 64,
   "id": "aad499f1-4f18-4a9e-9695-359f8dd0dc06",
   "metadata": {},
   "outputs": [],
   "source": [
    "with open(File_Path, 'r') as csv_file:\n",
    "    csv_reader = csv.reader(csv_file)\n",
    "\n",
    "    # The first row contains headers- Skip in order to just get dates in Date_List.\n",
    "    next(csv_reader)\n",
    "    \n",
    "    for row in csv_reader:\n",
    "        Date_List.append(row[0])\n",
    "        Profit_Loss.append(float(row[1]))"
   ]
  },
  {
   "cell_type": "code",
   "execution_count": 65,
   "id": "cbdfcce3-b1bc-4df0-ac78-9e83a391f860",
   "metadata": {},
   "outputs": [
    {
     "name": "stdout",
     "output_type": "stream",
     "text": [
      "[1088983.0, -354534.0, 276622.0, -728133.0, 852993.0, 563721.0, -535208.0, 632349.0, -173744.0, 950741.0, -785750.0, -1194133.0, -589576.0, -883921.0, 443564.0, 837887.0, 1081472.0, 464033.0, -1066544.0, 323846.0, -806551.0, 487053.0, 1128811.0, 791398.0, 739367.0, -197825.0, 666016.0, 589771.0, 489290.0, -471439.0, 120417.0, 175347.0, 855449.0, 605195.0, -235220.0, 347138.0, 298510.0, 163254.0, 1141840.0, 542630.0, 99841.0, 752765.0, -252949.0, 914424.0, 679524.0, 514377.0, 462102.0, 159782.0, 878810.0, -946748.0, 340335.0, 292032.0, 502266.0, 265852.0, 851017.0, -549615.0, 290162.0, 755391.0, 1073202.0, 313000.0, 241132.0, 1036589.0, 853904.0, -388932.0, 982952.0, 537759.0, 547784.0, -496214.0, 854181.0, 934719.0, -288531.0, -184383.0, 659541.0, -1149123.0, 355882.0, 662284.0, 518681.0, -748256.0, -910775.0, 951227.0, 898241.0, -729004.0, -112209.0, 516313.0, 607208.0, 382539.0]\n",
      "['Dec-16', 'May-16', 'Dec-15', 'Jul-11', 'Oct-12', 'Feb-17', 'Nov-12', 'May-12', 'Dec-13', 'Jun-15', 'Jan-13', 'Jan-16', 'Apr-14', 'May-15', 'Feb-12', 'May-13', 'Jun-13', 'Apr-12', 'Sep-15', 'Sep-13', 'Oct-14', 'Mar-16', 'Sep-10', 'Aug-15', 'Jul-16', 'Nov-15', 'Mar-12', 'Mar-15', 'Apr-16', 'Jul-10', 'Aug-14', 'Jun-11', 'Sep-14', 'Jan-12', 'Oct-15', 'Feb-13', 'Nov-14', 'Jul-15', 'Mar-14', 'Sep-16', 'Oct-11', 'Jun-16', 'Apr-13', 'Jan-14', 'Dec-12', 'Sep-11', 'Nov-13', 'Feb-10', 'Nov-11', 'Aug-11', 'Jul-12', 'Jun-14', 'Jun-12', 'May-11', 'Jul-13', 'Feb-11', 'Nov-16', 'Aug-12', 'May-14', 'Sep-12', 'Mar-11', 'Apr-15', 'Oct-13', 'Mar-10', 'Jan-17', 'Jan-15', 'Dec-10', 'May-10', 'Oct-10', 'Oct-16', 'Jan-10', 'Apr-11', 'Feb-15', 'Apr-10', 'Dec-11', 'Dec-14', 'Aug-10', 'Jan-11', 'Nov-10', 'Jul-14', 'Feb-14', 'Aug-13', 'Mar-13', 'Feb-16', 'Jun-10', 'Aug-16']\n"
     ]
    }
   ],
   "source": [
    "# Since we are asked to find We want to make sure that the list has no\n",
    "Date_List = list(set(Date_List))\n",
    "\n",
    "print(Profit_Loss)\n",
    "print(Date_List)"
   ]
  },
  {
   "cell_type": "code",
   "execution_count": 82,
   "id": "153e9408-b0a5-4a5e-8014-72ebe87f66ef",
   "metadata": {},
   "outputs": [],
   "source": [
    "Changes = []\n",
    "\n",
    "#The total number of months included in the dataset.\n",
    "Total_Months = len(Date_List)\n",
    "\n",
    "#The net total amount of \"Profit/Losses\" over the entire period.\n",
    "Net_PL = sum(Profit_Loss)\n",
    "\n",
    "#The changes in \"Profit/Losses\" over the entire period, and then the average of those changes.\n",
    "for i in range(1, len(Profit_Loss)):\n",
    "    change = Profit_Loss[int(i)] - Profit_Loss[int(i-1)]\n",
    "    Changes.append(change)\n",
    "\n",
    "Changes_Total = sum(Changes)\n",
    "\n",
    "Average_PL = sum(Changes)/len(Changes)\n",
    "Average_PL = round(Average_PL,2)"
   ]
  },
  {
   "cell_type": "code",
   "execution_count": 83,
   "id": "6145509d-7b6d-4389-93b7-5821f5e5148c",
   "metadata": {},
   "outputs": [
    {
     "name": "stdout",
     "output_type": "stream",
     "text": [
      "-706444.0\n",
      "-8311.11\n"
     ]
    }
   ],
   "source": [
    "print(Changes_Total)\n",
    "print(Average_PL)"
   ]
  },
  {
   "cell_type": "code",
   "execution_count": null,
   "id": "6e6f5fe9-afec-4ecd-8d72-675ab1aac58f",
   "metadata": {},
   "outputs": [],
   "source": []
  },
  {
   "cell_type": "code",
   "execution_count": null,
   "id": "094b2f1a-6502-4406-8d01-aefb027af5e8",
   "metadata": {},
   "outputs": [],
   "source": []
  }
 ],
 "metadata": {
  "kernelspec": {
   "display_name": "Python 3 (ipykernel)",
   "language": "python",
   "name": "python3"
  },
  "language_info": {
   "codemirror_mode": {
    "name": "ipython",
    "version": 3
   },
   "file_extension": ".py",
   "mimetype": "text/x-python",
   "name": "python",
   "nbconvert_exporter": "python",
   "pygments_lexer": "ipython3",
   "version": "3.11.7"
  }
 },
 "nbformat": 4,
 "nbformat_minor": 5
}

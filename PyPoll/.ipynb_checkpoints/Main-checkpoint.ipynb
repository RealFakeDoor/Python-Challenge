{
 "cells": [
  {
   "cell_type": "code",
   "execution_count": 5,
   "id": "30eda1c5-50b5-4313-8cfd-cecdeaa08019",
   "metadata": {},
   "outputs": [],
   "source": [
    "import csv"
   ]
  },
  {
   "cell_type": "code",
   "execution_count": 6,
   "id": "9c34a33b-3f72-467a-a0be-4e7a7545215f",
   "metadata": {},
   "outputs": [],
   "source": [
    "File_Path = \"./Resources/election_data.csv\""
   ]
  },
  {
   "cell_type": "code",
   "execution_count": 14,
   "id": "695b8daa-1b8b-465c-8f4f-53c0d425bd7c",
   "metadata": {},
   "outputs": [],
   "source": [
    "# The total number of votes cast\n",
    "\n",
    "# A complete list of candidates who received votes\n",
    "\n",
    "        # Create a dictionary with a key for each candidate, and value starting with zero.\n",
    "\n",
    "# The percentage of votes each candidate won\n",
    "\n",
    "# The total number of votes each candidate won\n",
    "\n",
    "# The winner of the election based on popular vote\n",
    "\n",
    "Candidates_List = []\n"
   ]
  },
  {
   "cell_type": "code",
   "execution_count": 23,
   "id": "1b710157-e6b9-4653-8e4c-8a3082afe488",
   "metadata": {},
   "outputs": [],
   "source": [
    "with open(File_Path, 'r') as csv_file:\n",
    "    csv_reader = csv.reader(csv_file)\n",
    "\n",
    "    # The first row contains headers- Skip in order to just get dates in Date_List.\n",
    "    next(csv_reader)\n",
    "    # Create a loop that captures all the data in each row as an individual value,\n",
    "    # Date_List - A list of all the dates in row 'Dates'\n",
    "    # Profit_Loss - A List of all the profits and losses in the column 'Profit/losses'\n",
    "    Total_Votes = 0\n",
    "    for row in csv_reader:\n",
    "        Candidates_List.append(row[2])\n",
    "        Total_Votes += 1"
   ]
  },
  {
   "cell_type": "code",
   "execution_count": 45,
   "id": "f5030c80-8ff2-4fc4-8e20-6f400f2052f2",
   "metadata": {},
   "outputs": [
    {
     "name": "stdout",
     "output_type": "stream",
     "text": [
      "Election Results\n",
      " \n",
      "-------------------------\n",
      " \n",
      "Total Votes: 369711\n",
      " \n",
      "-------------------------\n",
      " \n",
      "Charles Casper Stockham: 23.049% (85213)\n",
      " \n",
      "Diana DeGette: 73.812% (272892)\n",
      " \n",
      "Raymon Anthony Doane: 3.139% (11606)\n",
      " \n",
      " \n",
      "-------------------------\n",
      " \n",
      "Winner: Diana DeGette\n",
      " \n",
      "-------------------------\n",
      " \n"
     ]
    }
   ],
   "source": [
    "Candidates_List = list(set(Candidates_List))\n",
    "Votes = [0 for _ in range(len(Candidates_List))]\n",
    "\n",
    "with open(File_Path, 'r') as csv_file:\n",
    "    csv_reader = csv.reader(csv_file)\n",
    "    for row in csv_reader:\n",
    "        for i in range(len(Candidates_List)):\n",
    "            if Candidates_List[i] == row[2]:\n",
    "                Votes[i] += 1\n",
    "\n",
    "Winner_Votes = max(Votes)\n",
    "Votes_dict = dict(zip(Votes,Candidates_List))\n",
    "\n",
    "Percentage_Votes = []\n",
    "\n",
    "for i in range(len(Candidates_List)):\n",
    "    Percentage_Votes.append(Votes[i]*100/Total_Votes)\n",
    "\n",
    "print(f'Election Results')\n",
    "print(\" \")\n",
    "print(f'-------------------------')\n",
    "print(\" \")\n",
    "print(f'Total Votes: {Total_Votes}')\n",
    "print(\" \")\n",
    "print(f'-------------------------')\n",
    "print(\" \")\n",
    "for i in range(len(Candidates_List)):\n",
    "    print(f'{Candidates_List[i]}: {round(Percentage_Votes[i],3)}% ({Votes[i]})')\n",
    "    print(\" \")\n",
    "print(\" \")\n",
    "print(f'-------------------------')\n",
    "print(\" \")\n",
    "print(f'Winner: {Votes_dict[Winner_Votes]}')\n",
    "print(\" \")\n",
    "print(f'-------------------------')\n",
    "print(\" \")\n"
   ]
  },
  {
   "cell_type": "code",
   "execution_count": 48,
   "id": "9e72ab47-7af6-4f00-96b6-0b0830212230",
   "metadata": {},
   "outputs": [],
   "source": [
    "# Output results in required format to a .txt file.\n",
    "with open('Election Results.txt', 'w') as file:\n",
    "    # Redirect file.write statements to the file\n",
    "    file.write(f'Election Results\\n')\n",
    "    file.write(\" \\n\")\n",
    "    file.write(f'------------------------\\n')\n",
    "    file.write(\" \\n\")\n",
    "    file.write(f'Total Votes: {Total_Votes}\\n')\n",
    "    file.write(\" \\n\")\n",
    "    file.write(f'------------------------\\n')\n",
    "    file.write(\" \\n\")\n",
    "    for i in range(len(Candidates_List)):\n",
    "        file.write(f'{Candidates_List[i]}: {round(Percentage_Votes[i],3)}% ({Votes[i]})\\n')\n",
    "        file.write(\" \\n\")\n",
    "    file.write(\" \\n\")\n",
    "    file.write(f'------------------------\\n')\n",
    "    file.write(\" \")\n",
    "    file.write(f'Winner: {Votes_dict[Winner_Votes]}\\n')\n",
    "    file.write(\" \\n\")\n",
    "    file.write(f'------------------------\\n')\n",
    "    file.write(\" \\n\")"
   ]
  },
  {
   "cell_type": "code",
   "execution_count": null,
   "id": "5da8c795-2474-4ba8-b31d-a8e6f04a61cc",
   "metadata": {},
   "outputs": [],
   "source": []
  }
 ],
 "metadata": {
  "kernelspec": {
   "display_name": "Python 3 (ipykernel)",
   "language": "python",
   "name": "python3"
  },
  "language_info": {
   "codemirror_mode": {
    "name": "ipython",
    "version": 3
   },
   "file_extension": ".py",
   "mimetype": "text/x-python",
   "name": "python",
   "nbconvert_exporter": "python",
   "pygments_lexer": "ipython3",
   "version": "3.11.7"
  }
 },
 "nbformat": 4,
 "nbformat_minor": 5
}
